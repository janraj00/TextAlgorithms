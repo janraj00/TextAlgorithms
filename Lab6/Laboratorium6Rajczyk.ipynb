{
 "cells": [
  {
   "cell_type": "markdown",
   "metadata": {},
   "source": [
    "## Importy"
   ]
  },
  {
   "cell_type": "code",
   "execution_count": 21,
   "metadata": {},
   "outputs": [],
   "source": [
    "import queue\n",
    "from collections import defaultdict\n",
    "from collections import deque\n",
    "import numpy as np\n",
    "from PIL import Image\n",
    "from timeit import default_timer"
   ]
  },
  {
   "cell_type": "markdown",
   "metadata": {},
   "source": [
    "## KMP"
   ]
  },
  {
   "cell_type": "code",
   "execution_count": 2,
   "metadata": {},
   "outputs": [],
   "source": [
    "def prefix_function(pattern):\n",
    "    pi = [0]\n",
    "    k = 0\n",
    "    for q in range(1, len(pattern)):\n",
    "        while k > 0 and pattern[k] != pattern[q]:\n",
    "            k = pi[k - 1]\n",
    "        if pattern[k] == pattern[q]:\n",
    "            k = k + 1\n",
    "        pi.append(k)\n",
    "    return pi"
   ]
  },
  {
   "cell_type": "code",
   "execution_count": 3,
   "metadata": {},
   "outputs": [],
   "source": [
    "def KMP_string_matching(text, pattern):\n",
    "    pi = prefix_function(pattern)\n",
    "    q = 0\n",
    "    res = []\n",
    "    for i in range(0, len(text)):\n",
    "        while q > 0 and pattern[q] != text[i]:\n",
    "            q = pi[q - 1]\n",
    "        if pattern[q] == text[i]:\n",
    "            q = q + 1\n",
    "        if q == len(pattern):\n",
    "            res.append(i)\n",
    "            q = pi[q - 1]\n",
    "    return res"
   ]
  },
  {
   "cell_type": "markdown",
   "metadata": {},
   "source": [
    "## Aho-Corasick"
   ]
  },
  {
   "cell_type": "code",
   "execution_count": 4,
   "metadata": {},
   "outputs": [],
   "source": [
    "class Node:\n",
    "    def __init__(self, c):\n",
    "        self.fail: Node = None\n",
    "        self.next = dict([])\n",
    "        self.char = c\n",
    "        self.output = []\n",
    "        self.isRoot = 0\n",
    "\n",
    "    def find_next(self, character):\n",
    "        if character in self.next.keys():\n",
    "            return self.next[character]\n",
    "        elif self.isRoot:\n",
    "            return self\n",
    "        else:\n",
    "            return None\n",
    "\n",
    "\n",
    "class AhoCorasick:\n",
    "    def __init__(self, patterns):\n",
    "        self.patterns = patterns\n",
    "        self.root = Node('')\n",
    "        self.root.isRoot = 1\n",
    "        self.transition_table()\n",
    "\n",
    "    def transition_table(self):\n",
    "        for pattern in self.patterns:\n",
    "            current = self.root\n",
    "            for character in pattern:\n",
    "                if character not in current.next.keys():\n",
    "                    current.next[character] = Node(character)\n",
    "                current = current.next[character]\n",
    "            current.output.append(pattern)\n",
    "        self.create_fails()\n",
    "\n",
    "    def create_fails(self):\n",
    "        q = deque()\n",
    "        for val in self.root.next.values():\n",
    "            val.fail = self.root\n",
    "            q.append(val)\n",
    "        while q:\n",
    "            current = q.popleft()\n",
    "            for child in current.next.values():\n",
    "                q.append(child)\n",
    "                # if child.fail is not None\n",
    "                node_fail = current.fail\n",
    "                while node_fail.find_next(child.char) is None:\n",
    "                    node_fail = node_fail.fail\n",
    "\n",
    "                child.fail = node_fail.find_next(child.char)\n",
    "                if child.fail:\n",
    "                    child.output = child.output + child.fail.output\n",
    "\n",
    "    def compute_text(self, text):\n",
    "        current = self.root\n",
    "        keywords_found = []\n",
    "        current_state = 0\n",
    "        for c in text:\n",
    "            while current.find_next(c) is None:\n",
    "                current = current.fail\n",
    "            current = current.find_next(c)\n",
    "            if current.output:\n",
    "                for node in current.output:\n",
    "                    keywords_found.append((current_state - len(node) + 1, node))\n",
    "            current_state += 1\n",
    "        return keywords_found"
   ]
  },
  {
   "cell_type": "markdown",
   "metadata": {},
   "source": [
    "## Funkcje pomocnicze"
   ]
  },
  {
   "cell_type": "code",
   "execution_count": 12,
   "metadata": {},
   "outputs": [],
   "source": [
    "def text_to_matrix(text):\n",
    "    max_line_len = max([len(line) for line in text])\n",
    "    res = []\n",
    "    for row in text:\n",
    "        line = list(row)\n",
    "        for i in range(max_line_len - len(line)):\n",
    "            line.append('\\0')\n",
    "        res.append(line)\n",
    "    return res\n",
    "\n",
    "\n",
    "def transpose_matrix(A):\n",
    "    return list(map(list, zip(*A)))\n",
    "\n",
    "\n",
    "def list_to_string(line):\n",
    "    return str(np.array(line))\n",
    "\n",
    "\n",
    "def matrix_to_KMP(text, patterns):\n",
    "    # build matrix\n",
    "    lines = text_to_matrix(text)\n",
    "    A = AhoCorasick(patterns)\n",
    "    patterns_found_matrix = [[0 for _ in range(len(lines[0]))] for _ in range(len(lines))]\n",
    "    for i in range(len(lines)):\n",
    "        line = lines[i]\n",
    "        temp = A.compute_text(line)\n",
    "        for elem in temp:\n",
    "            patterns_found_matrix[i][elem[0]] = patterns.index(elem[1]) + 1\n",
    "    res = transpose_matrix(patterns_found_matrix)\n",
    "    return res\n",
    "\n",
    "def png_to_matrix(path):\n",
    "    png_array = np.array(Image.open(path))[:, :, 0]\n",
    "    parsed_array = np.where(png_array > 128, 0, 1)\n",
    "    matrix = [\"\". join(str(row))[1:-1] for row in parsed_array]\n",
    "    return matrix"
   ]
  },
  {
   "cell_type": "markdown",
   "metadata": {},
   "source": [
    "## Zadanie 2"
   ]
  },
  {
   "cell_type": "code",
   "execution_count": 6,
   "metadata": {},
   "outputs": [
    {
     "name": "stdout",
     "output_type": "stream",
     "text": [
      "Litera: d , ilość wystąpień jedna pod drugą: 1\n",
      "Litera: L , ilość wystąpień jedna pod drugą: 0\n",
      "Litera: ) , ilość wystąpień jedna pod drugą: 0\n",
      "Litera: x , ilość wystąpień jedna pod drugą: 1\n",
      "Litera: G , ilość wystąpień jedna pod drugą: 0\n",
      "Litera: - , ilość wystąpień jedna pod drugą: 0\n",
      "Litera: i , ilość wystąpień jedna pod drugą: 12\n",
      "Litera: 1 , ilość wystąpień jedna pod drugą: 0\n",
      "Litera: g , ilość wystąpień jedna pod drugą: 0\n",
      "Litera: 6 , ilość wystąpień jedna pod drugą: 0\n",
      "Litera: 5 , ilość wystąpień jedna pod drugą: 0\n",
      "Litera: 7 , ilość wystąpień jedna pod drugą: 0\n",
      "Litera: h , ilość wystąpień jedna pod drugą: 3\n",
      "Litera: \" , ilość wystąpień jedna pod drugą: 0\n",
      "Litera: V , ilość wystąpień jedna pod drugą: 0\n",
      "Litera: X , ilość wystąpień jedna pod drugą: 0\n",
      "Litera: c , ilość wystąpień jedna pod drugą: 6\n",
      "Litera: I , ilość wystąpień jedna pod drugą: 0\n",
      "Litera: l , ilość wystąpień jedna pod drugą: 5\n",
      "Litera: w , ilość wystąpień jedna pod drugą: 2\n",
      "Litera: j , ilość wystąpień jedna pod drugą: 0\n",
      "Litera: Q , ilość wystąpień jedna pod drugą: 0\n",
      "Litera: b , ilość wystąpień jedna pod drugą: 0\n",
      "Litera: \n",
      " , ilość wystąpień jedna pod drugą: 1\n",
      "Litera: o , ilość wystąpień jedna pod drugą: 21\n",
      "Litera: . , ilość wystąpień jedna pod drugą: 0\n",
      "Litera: k , ilość wystąpień jedna pod drugą: 0\n",
      "Litera: N , ilość wystąpień jedna pod drugą: 0\n",
      "Litera: r , ilość wystąpień jedna pod drugą: 21\n",
      "Litera: 0 , ilość wystąpień jedna pod drugą: 0\n",
      "Litera: 3 , ilość wystąpień jedna pod drugą: 0\n",
      "Litera: ; , ilość wystąpień jedna pod drugą: 0\n",
      "Litera: p , ilość wystąpień jedna pod drugą: 2\n",
      "Litera: D , ilość wystąpień jedna pod drugą: 0\n",
      "Litera: ( , ilość wystąpień jedna pod drugą: 0\n",
      "Litera: a , ilość wystąpień jedna pod drugą: 28\n",
      "Litera: M , ilość wystąpień jedna pod drugą: 0\n",
      "Litera: t , ilość wystąpień jedna pod drugą: 41\n",
      "Litera: E , ilość wystąpień jedna pod drugą: 0\n",
      "Litera: B , ilość wystąpień jedna pod drugą: 0\n",
      "Litera: m , ilość wystąpień jedna pod drugą: 5\n",
      "Litera: : , ilość wystąpień jedna pod drugą: 0\n",
      "Litera: v , ilość wystąpień jedna pod drugą: 0\n",
      "Litera: A , ilość wystąpień jedna pod drugą: 0\n",
      "Litera: n , ilość wystąpień jedna pod drugą: 15\n",
      "Litera: q , ilość wystąpień jedna pod drugą: 0\n",
      "Litera: f , ilość wystąpień jedna pod drugą: 2\n",
      "Litera: e , ilość wystąpień jedna pod drugą: 47\n",
      "Litera: W , ilość wystąpień jedna pod drugą: 0\n",
      "Litera: O , ilość wystąpień jedna pod drugą: 0\n",
      "Litera: y , ilość wystąpień jedna pod drugą: 1\n",
      "Litera: T , ilość wystąpień jedna pod drugą: 0\n",
      "Litera: C , ilość wystąpień jedna pod drugą: 0\n",
      "Litera: R , ilość wystąpień jedna pod drugą: 0\n",
      "Litera: P , ilość wystąpień jedna pod drugą: 0\n",
      "Litera: S , ilość wystąpień jedna pod drugą: 0\n",
      "Litera: s , ilość wystąpień jedna pod drugą: 19\n",
      "Litera: F , ilość wystąpień jedna pod drugą: 0\n",
      "Litera: u , ilość wystąpień jedna pod drugą: 0\n",
      "Litera: U , ilość wystąpień jedna pod drugą: 0\n",
      "Litera: z , ilość wystąpień jedna pod drugą: 0\n",
      "Litera: , , ilość wystąpień jedna pod drugą: 0\n"
     ]
    }
   ],
   "source": [
    "def zad2():\n",
    "    with open('haystack.txt', 'r') as file:\n",
    "        text = file.readlines()\n",
    "    alphabet = set()\n",
    "    for line in text:\n",
    "        for letter in line:\n",
    "            if letter != ' ':\n",
    "                alphabet.add(letter)\n",
    "    for letter in alphabet:\n",
    "        T = matrix_to_KMP(text, [letter])\n",
    "        counter = 0\n",
    "        for line in T:\n",
    "            temp = KMP_string_matching(list_to_string(line), '1 1')\n",
    "            counter += len(temp)\n",
    "        print(\"Litera:\", letter, \", ilość wystąpień jedna pod drugą:\", counter)\n",
    "\n",
    "zad2()        "
   ]
  },
  {
   "cell_type": "markdown",
   "metadata": {},
   "source": [
    "## Zadanie 3"
   ]
  },
  {
   "cell_type": "code",
   "execution_count": 10,
   "metadata": {},
   "outputs": [
    {
     "name": "stdout",
     "output_type": "stream",
     "text": [
      "'t h'\n",
      "37 0\n",
      "Ilość wystąpień 't h' jedna pod drugą: 1\n",
      "'th'\n",
      "Ilość wystąpień 'th' jedna pod drugą: 0\n"
     ]
    }
   ],
   "source": [
    "def zad3():\n",
    "    with open('haystack.txt', 'r') as file:\n",
    "        text = file.readlines()\n",
    "    T1 = matrix_to_KMP(text, ['t h', 't h'])\n",
    "    T2 = matrix_to_KMP(text, ['th', 'th'])\n",
    "    sum1 = 0\n",
    "    sum2 = 0\n",
    "    print(\"'t h'\")\n",
    "    i = 0 \n",
    "    for line in T1:\n",
    "        temp = KMP_string_matching(list_to_string(line), '1 1')\n",
    "        if len(temp) > 0:\n",
    "            for elem in temp:\n",
    "                print((elem-1)//2 - 1, i)\n",
    "        i+=1        \n",
    "        sum1 += len(temp)\n",
    "    print(\"Ilość wystąpień 't h' jedna pod drugą:\", sum1)\n",
    "    print(\"'th'\")\n",
    "    i = 0\n",
    "    for line in T2:\n",
    "        temp = KMP_string_matching(list_to_string(line), '1 1')\n",
    "        i+=1\n",
    "        sum2 += len(temp)\n",
    "    print(\"Ilość wystąpień 'th' jedna pod drugą:\", sum2)\n",
    "    \n",
    "zad3()    "
   ]
  },
  {
   "cell_type": "markdown",
   "metadata": {},
   "source": [
    "## Zadanie 4"
   ]
  },
  {
   "cell_type": "code",
   "execution_count": 19,
   "metadata": {},
   "outputs": [
    {
     "name": "stdout",
     "output_type": "stream",
     "text": [
      "Ilość wystąpień literki a : 288\n",
      "Ilość wystąpień literki o : 259\n",
      "Ilość wystąpień literki g : 69\n"
     ]
    }
   ],
   "source": [
    "def zad4():\n",
    "    text = png_to_matrix('haystack.png')\n",
    "    pattern1 = png_to_matrix('literkaa.png')\n",
    "    pattern2 = png_to_matrix('literkao.png')\n",
    "    pattern3 = png_to_matrix('literkag.png')\n",
    "    patterns = [pattern1, pattern2, pattern3]\n",
    "    letters = ['a', 'o', 'g']\n",
    "    sumy = 3*[0]\n",
    "    i = 0\n",
    "    for pattern in patterns:\n",
    "        suma = 0\n",
    "        T = matrix_to_KMP([list_to_string(line) for line in text], [list_to_string(line) for line in pattern])\n",
    "        for line in T:\n",
    "            matching = KMP_string_matching(' '.join([str(i) for i in line]), ' '.join([str(pattern.index(line) + 1) for line in pattern]))\n",
    "            suma += len(matching)\n",
    "        print(\"Ilość wystąpień literki\", letters[i], \":\", suma)\n",
    "        i += 1\n",
    "\n",
    "zad4()"
   ]
  },
  {
   "cell_type": "markdown",
   "metadata": {},
   "source": [
    "## Zadanie 5"
   ]
  },
  {
   "cell_type": "code",
   "execution_count": 20,
   "metadata": {},
   "outputs": [
    {
     "name": "stdout",
     "output_type": "stream",
     "text": [
      "Ilość dopasowań 'p a t t e r n': 0\n"
     ]
    }
   ],
   "source": [
    "def zad5():\n",
    "    text = png_to_matrix('haystack.png')\n",
    "    pattern1 = png_to_matrix('patternik.png')\n",
    "    suma = 0\n",
    "    T = matrix_to_KMP([list_to_string(line) for line in text], [list_to_string(line) for line in pattern1])\n",
    "    for line in T:\n",
    "        matching = KMP_string_matching(' '.join([str(i) for i in line]),\n",
    "                                       ' '.join([str(pattern1.index(line) + 1) for line in pattern1]))\n",
    "        suma += len(matching)\n",
    "    print(\"Ilość dopasowań 'p a t t e r n':\", suma)\n",
    "\n",
    "\n",
    "zad5()"
   ]
  },
  {
   "cell_type": "markdown",
   "metadata": {},
   "source": [
    "## Zadanie 6"
   ]
  },
  {
   "cell_type": "code",
   "execution_count": 24,
   "metadata": {},
   "outputs": [],
   "source": [
    "def measure_matrix_to_KMP(text, patterns):\n",
    "    lines = text_to_matrix(text)\n",
    "    start_automata = default_timer()\n",
    "    A = AhoCorasick(patterns)\n",
    "    end_automata = default_timer()\n",
    "    patterns_found_matrix = [[0 for _ in range(len(lines[0]))] for _ in range(len(lines))]\n",
    "    start_matching = default_timer()\n",
    "    for i in range(len(lines)):\n",
    "        line = lines[i]\n",
    "        temp = A.compute_text(line)\n",
    "        for elem in temp:\n",
    "            patterns_found_matrix[i][elem[0]] = patterns.index(elem[1]) + 1\n",
    "    end_matching = default_timer()        \n",
    "    res = transpose_matrix(patterns_found_matrix)\n",
    "    return res, (end_automata - start_automata), (end_matching - start_matching)"
   ]
  },
  {
   "cell_type": "code",
   "execution_count": 27,
   "metadata": {},
   "outputs": [
    {
     "name": "stdout",
     "output_type": "stream",
     "text": [
      "Dla wzorca wielkości:  mały ,czas tworzenia to: 0.008788900000581634 czas dopasowania: 2.7120473999984824\n",
      "Dla wzorca wielkości:  średni ,czas tworzenia to: 0.07001360000140266 czas dopasowania: 1.92305160000069\n",
      "Dla wzorca wielkości:  duży ,czas tworzenia to: 0.4727167000000918 czas dopasowania: 2.2470856999989337\n"
     ]
    }
   ],
   "source": [
    "def zad6():\n",
    "    text = png_to_matrix('haystack.png')\n",
    "    pattern1 = png_to_matrix('literkaa.png')\n",
    "    pattern2 = png_to_matrix('patternik.png')\n",
    "    pattern3 = png_to_matrix('paternduzy.png')\n",
    "    patterns = [pattern1, pattern2, pattern3]\n",
    "    sizes = ['mały', 'średni', 'duży']\n",
    "    i = 0\n",
    "    for pattern in patterns:\n",
    "        T, automata_time, matching_time = measure_matrix_to_KMP([list_to_string(line) for line in text],\n",
    "                                                                [list_to_string(line) for line in pattern])\n",
    "        print(\"Dla wzorca wielkości: \", sizes[i], \",czas tworzenia to:\", automata_time, \"czas dopasowania:\",\n",
    "              matching_time)\n",
    "        i += 1\n",
    "\n",
    "\n",
    "zad6()"
   ]
  },
  {
   "cell_type": "markdown",
   "metadata": {},
   "source": [
    "## Zadanie 7"
   ]
  },
  {
   "cell_type": "code",
   "execution_count": 29,
   "metadata": {},
   "outputs": [
    {
     "name": "stdout",
     "output_type": "stream",
     "text": [
      "Dla pliku hastack.txt:\n",
      "Wyszukiwanie dzieląc na: 2 części trwa: 0.002297200000612065\n",
      "Wyszukiwanie dzieląc na: 2 części trwa: 0.0023770999996486353\n",
      "Wyszukiwanie dzieląc na: 4 części trwa: 0.0009769000007509021\n",
      "Wyszukiwanie dzieląc na: 4 części trwa: 0.0010241999989375472\n",
      "Wyszukiwanie dzieląc na: 4 części trwa: 0.0011900000008608913\n",
      "Wyszukiwanie dzieląc na: 4 części trwa: 0.000992999999652966\n",
      "Wyszukiwanie dzieląc na: 8 części trwa: 0.0004809000001841923\n",
      "Wyszukiwanie dzieląc na: 8 części trwa: 0.0007462000012310455\n",
      "Wyszukiwanie dzieląc na: 8 części trwa: 0.0004929999995511025\n",
      "Wyszukiwanie dzieląc na: 8 części trwa: 0.000480799999422743\n",
      "Wyszukiwanie dzieląc na: 8 części trwa: 0.0006137999989732634\n",
      "Wyszukiwanie dzieląc na: 8 części trwa: 0.0006579000000783708\n",
      "Wyszukiwanie dzieląc na: 8 części trwa: 0.0004964999989169883\n",
      "Wyszukiwanie dzieląc na: 8 części trwa: 0.00047540000014123507\n"
     ]
    }
   ],
   "source": [
    "print(\"Dla pliku hastack.txt:\")\n",
    "def zad7():\n",
    "    with open('haystack.txt', 'r') as file:\n",
    "        text = file.readlines()\n",
    "    parts = [2, 4, 8]\n",
    "    for part in parts:\n",
    "        len_of_part = len(text)//part\n",
    "        for i in range(part):\n",
    "            new_text = []\n",
    "            for j in range(len_of_part):\n",
    "                new_text.append(text[i*len_of_part + j])\n",
    "            res0, res1, res2 = measure_matrix_to_KMP(new_text, ['t h'])\n",
    "            print(\"Wyszukiwanie dzieląc na:\", part, \"części trwa:\", res2)\n",
    "\n",
    "            \n",
    "zad7()"
   ]
  },
  {
   "cell_type": "code",
   "execution_count": null,
   "metadata": {},
   "outputs": [],
   "source": []
  }
 ],
 "metadata": {
  "kernelspec": {
   "display_name": "Python 3",
   "language": "python",
   "name": "python3"
  },
  "language_info": {
   "codemirror_mode": {
    "name": "ipython",
    "version": 3
   },
   "file_extension": ".py",
   "mimetype": "text/x-python",
   "name": "python",
   "nbconvert_exporter": "python",
   "pygments_lexer": "ipython3",
   "version": "3.8.5"
  }
 },
 "nbformat": 4,
 "nbformat_minor": 4
}
