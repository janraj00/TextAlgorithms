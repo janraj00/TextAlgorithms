{
 "cells": [
  {
   "cell_type": "code",
   "execution_count": 1,
   "metadata": {},
   "outputs": [],
   "source": [
    "import time"
   ]
  },
  {
   "cell_type": "code",
   "execution_count": 2,
   "metadata": {},
   "outputs": [],
   "source": [
    "def add_marker(string):\n",
    "    p = string[len(string) - 1]\n",
    "    letters = set()\n",
    "    for i in range(len(string) - 1):\n",
    "        letters.add(string[i])\n",
    "    if p in letters:\n",
    "        return string + '$'\n",
    "    else:\n",
    "        return string"
   ]
  },
  {
   "cell_type": "code",
   "execution_count": 3,
   "metadata": {},
   "outputs": [],
   "source": [
    "class Node:\n",
    "    def __init__(self, c: str):\n",
    "        self.char: str = c\n",
    "        self.children = {}\n",
    "\n",
    "\n",
    "class Trie:\n",
    "    def __init__(self, string: str):\n",
    "        string = add_marker(string)\n",
    "        self.root: Node = Node(string[0])\n",
    "        for i in range(1, len(string)):\n",
    "            self.insert(string[i:])\n",
    "\n",
    "    def insert(self, suffix: str):\n",
    "        current = self.root\n",
    "        for letter in suffix:\n",
    "            if letter in current.children:\n",
    "                current = current.children[letter]\n",
    "            else:\n",
    "                node = Node(letter)\n",
    "                current.children[letter] = node\n",
    "                current = node\n",
    "\n",
    "    def find(self, pattern: str):\n",
    "        current = self.root\n",
    "        for letter in pattern:\n",
    "            if letter not in current.children:\n",
    "                return False\n",
    "            current = current.children[letter]\n",
    "        return True"
   ]
  },
  {
   "cell_type": "code",
   "execution_count": 4,
   "metadata": {},
   "outputs": [
    {
     "name": "stdout",
     "output_type": "stream",
     "text": [
      "False\n",
      "0.0\n",
      "False\n",
      "0.0\n",
      "False\n",
      "0.0\n",
      "False\n",
      "0.0\n",
      "True\n",
      "6.5374369621276855\n"
     ]
    }
   ],
   "source": [
    "f = open(\"1997_714_head.txt\", 'r', encoding=\"utf8\")\n",
    "text = f.read()\n",
    "\n",
    "test = [\"bbbd\", \"aabbabd\", \"ababcd\", \"abcbccd\", text]\n",
    "\n",
    "for elem in test:\n",
    "    start: time = time.time()\n",
    "    T = Trie(elem)\n",
    "    print(T.find(\"karty podatkowej\"))\n",
    "    end: time = time.time()\n",
    "    print(end - start)"
   ]
  },
  {
   "cell_type": "code",
   "execution_count": null,
   "metadata": {},
   "outputs": [],
   "source": []
  }
 ],
 "metadata": {
  "kernelspec": {
   "display_name": "Python 3",
   "language": "python",
   "name": "python3"
  },
  "language_info": {
   "codemirror_mode": {
    "name": "ipython",
    "version": 3
   },
   "file_extension": ".py",
   "mimetype": "text/x-python",
   "name": "python",
   "nbconvert_exporter": "python",
   "pygments_lexer": "ipython3",
   "version": "3.8.5"
  }
 },
 "nbformat": 4,
 "nbformat_minor": 4
}
