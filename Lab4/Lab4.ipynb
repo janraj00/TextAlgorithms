{
 "cells": [
  {
   "cell_type": "code",
   "execution_count": 1,
   "metadata": {},
   "outputs": [],
   "source": [
    "from spacy.tokenizer import Tokenizer\n",
    "from spacy.lang.pl import Polish\n",
    "from random import randint\n",
    "from math import floor"
   ]
  },
  {
   "cell_type": "code",
   "execution_count": 2,
   "metadata": {},
   "outputs": [],
   "source": [
    "def Levenstein(a: str, b: str):\n",
    "    size_a: int = len(a)\n",
    "    size_b: int = len(b)\n",
    "    # prep\n",
    "    L = [[0 for _ in range(size_b + 1)] for _ in range(size_a + 1)]\n",
    "    for i in range(size_b + 1):\n",
    "        L[0][i] = i\n",
    "\n",
    "    for i in range(size_a + 1):\n",
    "        L[i][0] = i\n",
    "\n",
    "    for i in range(1, size_a + 1):\n",
    "        for j in range(1, size_b + 1):\n",
    "            cost: int = 0\n",
    "            if a[i - 1] != b[j - 1]:\n",
    "                cost = 1\n",
    "            L[i][j] = min(L[i - 1][j] + 1, L[i][j - 1] + 1, L[i - 1][j - 1] + cost)\n",
    "    return L"
   ]
  },
  {
   "cell_type": "code",
   "execution_count": 3,
   "metadata": {},
   "outputs": [],
   "source": [
    "def find_differences(a: str, b: str):\n",
    "    Lev = Levenstein(a, b)\n",
    "    i: int = len(a)\n",
    "    j: int = len(b)\n",
    "    changes = []\n",
    "    while i >= 0 and j >= 0:\n",
    "        if i == 0 and j == 0:\n",
    "            break\n",
    "        if i >= 1 and j >= 1:\n",
    "            if Lev[i - 1][j - 1] <= Lev[i - 1][j] and Lev[i - 1][j - 1] <= Lev[i][j - 1]:\n",
    "                if a[i - 1] == b[j - 1]:\n",
    "                    i, j = i - 1, j - 1\n",
    "                    continue\n",
    "                changes.append((i - 1, j - 1, 1))\n",
    "                i, j = i - 1, j - 1\n",
    "            elif Lev[i - 1][j - 1] > Lev[i][j - 1]:\n",
    "                changes.append((i, j - 1, 2))\n",
    "                j -= 1\n",
    "            elif Lev[i - 1][j - 1] > Lev[i - 1][j]:\n",
    "                changes.append((i - 1, j, 3))\n",
    "                i -= 1\n",
    "        elif i >= 1:\n",
    "            changes.append((i - 1, j, 3))\n",
    "            i -= 1\n",
    "        elif j >= 1:\n",
    "            changes.append((i, j - 1, 2))\n",
    "            j -= 1\n",
    "\n",
    "    changes.reverse()\n",
    "    return changes"
   ]
  },
  {
   "cell_type": "code",
   "execution_count": 4,
   "metadata": {},
   "outputs": [],
   "source": [
    "def visualize_differences(a: str, b: str):\n",
    "    differences = find_differences(a, b)\n",
    "    i: int = 0\n",
    "    for operation in differences:\n",
    "        shift: int = operation[0]\n",
    "        char: str = b[operation[1]]\n",
    "        if operation[2] == 1:\n",
    "            print(a[:i + shift] + '*' + char + '*' + a[i + shift + 1:], \"(zamiana litery\", a[i + shift], \"na\", char,\n",
    "                  \")\")\n",
    "            a = a[:i + shift] + char + a[i + shift + 1:]\n",
    "        elif operation[2] == 2:\n",
    "            print(a[:i + shift] + '+' + char + '+' + a[i + shift:], \"(dodanie litery\", char, \")\")\n",
    "            a = a[:i + shift] + char + a[i + shift:]\n",
    "            i += 1\n",
    "        else:\n",
    "            print(a[:i + shift] + '_' + a[i + shift+1:], \"(usunięcie litery\", a[i+shift], \")\")\n",
    "            a = a[:i + shift] + a[i + shift+1:]\n",
    "            i -= 1\n",
    "    print(a)"
   ]
  },
  {
   "cell_type": "markdown",
   "metadata": {},
   "source": [
    "## Wizualizacja przejść"
   ]
  },
  {
   "cell_type": "code",
   "execution_count": 5,
   "metadata": {},
   "outputs": [
    {
     "name": "stdout",
     "output_type": "stream",
     "text": [
      "los   kloc\n",
      "+k+los (dodanie litery k )\n",
      "klo*c* (zamiana litery s na c )\n",
      "kloc\n",
      "@@@@@@@@\n",
      "Łódź   Lodz\n",
      "*L*ódź (zamiana litery Ł na L )\n",
      "L*o*dź (zamiana litery ó na o )\n",
      "Lod*z* (zamiana litery ź na z )\n",
      "Lodz\n",
      "@@@@@@@@\n",
      "kwintesencja   quintessence\n",
      "*q*wintesencja (zamiana litery k na q )\n",
      "q*u*intesencja (zamiana litery w na u )\n",
      "quintes+s+encja (dodanie litery s )\n",
      "quintessenc_a (usunięcie litery j )\n",
      "quintessenc*e* (zamiana litery a na e )\n",
      "quintessence\n",
      "@@@@@@@@\n",
      "ATGAATCTTACCGCCTCG   ATGAGGCTCTGGCCCCTG\n",
      "ATGA*G*TCTTACCGCCTCG (zamiana litery A na G )\n",
      "ATGAG*G*CTTACCGCCTCG (zamiana litery T na G )\n",
      "ATGAGGCT+C+TACCGCCTCG (dodanie litery C )\n",
      "ATGAGGCTCT*G*CCGCCTCG (zamiana litery A na G )\n",
      "ATGAGGCTCTG*G*CGCCTCG (zamiana litery C na G )\n",
      "ATGAGGCTCTGGC*C*CCTCG (zamiana litery G na C )\n",
      "ATGAGGCTCTGGCCCCT_G (usunięcie litery C )\n",
      "ATGAGGCTCTGGCCCCTG\n",
      "@@@@@@@@\n"
     ]
    }
   ],
   "source": [
    "pairs = [[\"los\", \"kloc\"], [\"Łódź\", \"Lodz\"], [\"kwintesencja\", \"quintessence\"],\n",
    "         [\"ATGAATCTTACCGCCTCG\", \"ATGAGGCTCTGGCCCCTG\"]]\n",
    "\n",
    "for pair in pairs:\n",
    "    print(pair[0], \" \", pair[1])\n",
    "    visualize_differences(pair[0], pair[1])\n",
    "    print(\"@@@@@@@@\")"
   ]
  },
  {
   "cell_type": "markdown",
   "metadata": {
    "pycharm": {
     "name": "#%% md\n"
    }
   },
   "source": [
    "## LCS and differences\n"
   ]
  },
  {
   "cell_type": "code",
   "execution_count": 8,
   "outputs": [],
   "source": [
    "def tokenize(filename):\n",
    "    res = []\n",
    "    with open(filename, 'r', encoding=\"utf8\") as file:\n",
    "        T = file.readlines()\n",
    "    tokenizer = Tokenizer(Polish().vocab)\n",
    "    for t in T:\n",
    "        chars = tokenizer(t)\n",
    "        for c in chars:\n",
    "            res.append(str(c))\n",
    "\n",
    "    return res\n",
    "\n",
    "def delete_tokens(text):\n",
    "    new_text: list = text.copy()\n",
    "    length: int = len(text)\n",
    "    tokens_to_delete: int = floor(length * 0.03)\n",
    "    for i in range(tokens_to_delete):\n",
    "        p = randint(0, length - 1)\n",
    "        new_text.pop(p)\n",
    "        length -= 1\n",
    "    return new_text"
   ],
   "metadata": {
    "collapsed": false,
    "pycharm": {
     "name": "#%%\n"
    }
   }
  },
  {
   "cell_type": "code",
   "execution_count": 9,
   "outputs": [],
   "source": [
    "def LCS(a: list, b: list):\n",
    "    size_a: int = len(a)\n",
    "    size_b: int = len(b)\n",
    "    C = [[0 for _ in range(size_b + 1)] for _ in range(size_a + 1)]\n",
    "    commons = []\n",
    "    for i in range(1, size_a + 1):\n",
    "        for j in range(1, size_b + 1):\n",
    "            if a[i - 1] == b[j - 1]:\n",
    "                C[i][j] = C[i - 1][j - 1] + 1\n",
    "            else:\n",
    "                C[i][j] = max(C[i - 1][j], C[i][j - 1])\n",
    "    i: int = len(a)\n",
    "    j: int = len(b)\n",
    "    while i > 0 and j > 0:\n",
    "        if a[i - 1] == b[j - 1]:\n",
    "            commons.append(a[i - 1])\n",
    "            i -= 1\n",
    "            j -= 1\n",
    "        elif C[i - 1][j] > C[i][j - 1]:\n",
    "            i -= 1\n",
    "        else:\n",
    "            j -= 1\n",
    "    commons.reverse()\n",
    "    return C, commons"
   ],
   "metadata": {
    "collapsed": false,
    "pycharm": {
     "name": "#%%\n"
    }
   }
  },
  {
   "cell_type": "code",
   "execution_count": 10,
   "outputs": [],
   "source": [
    "def diff_tool(text, common_arr):\n",
    "    text_index: int = 0\n",
    "    arr_index: int = 0\n",
    "    line: int = 1\n",
    "    diffs = []\n",
    "    while text_index < len(text) and arr_index < len(common_arr):\n",
    "        if text[text_index] == common_arr[arr_index]:\n",
    "            if text[text_index] == \"\\n\":\n",
    "                line += 1\n",
    "            text_index += 1\n",
    "            arr_index += 1\n",
    "            continue\n",
    "        if text[text_index] == \"\\n\":\n",
    "            text_index += 1\n",
    "            line += 1\n",
    "            continue\n",
    "        elif text[text_index] != common_arr[arr_index]:\n",
    "            diffs.append((text[text_index], line))\n",
    "            text_index += 1\n",
    "    return diffs"
   ],
   "metadata": {
    "collapsed": false,
    "pycharm": {
     "name": "#%%\n"
    }
   }
  },
  {
   "cell_type": "code",
   "execution_count": 13,
   "outputs": [],
   "source": [
    "def LCS_from_tokens_and_diffs(chars):\n",
    "    text_a: list = delete_tokens(chars)\n",
    "    text_b: list = delete_tokens(chars)\n",
    "    lcs, commons = LCS(text_a, text_b)\n",
    "    # print(commons)\n",
    "    print(\"Długość najdłuższego wspólnego podciągu tokenów:\", lcs[len(text_a)][len(text_b)])\n",
    "    print(\"@@@@@@@@@@@@@@@@@@@@@@@@@@@@@@@\")\n",
    "    print(\"Operacja diff dla zbioru tokenów:\")\n",
    "    diff_in_a = diff_tool(text_a, commons)\n",
    "    diff_in_b = diff_tool(text_b, commons)\n",
    "    for elem in diff_in_a:\n",
    "        print(elem[0], \"<\", elem[1])\n",
    "    for elem in diff_in_b:\n",
    "        print(elem[0], \">\", elem[1])"
   ],
   "metadata": {
    "collapsed": false,
    "pycharm": {
     "name": "#%%\n"
    }
   }
  },
  {
   "cell_type": "code",
   "execution_count": 14,
   "outputs": [
    {
     "name": "stdout",
     "output_type": "stream",
     "text": [
      "Długość najdłuższego wspólnego podciągu tokenów: 2472\n",
      "@@@@@@@@@@@@@@@@@@@@@@@@@@@@@@@\n",
      "Operacja diff dla zbioru tokenów:\n",
      "książę < 10\n",
      "  < 23\n",
      "— < 30\n",
      "domów, < 32\n",
      "maski, < 32\n",
      "treścią < 57\n",
      "koty, < 86\n",
      "Rozruchać < 109\n",
      "z < 109\n",
      "walecznym < 109\n",
      "mur < 114\n",
      "to < 124\n",
      "zawsze < 124\n",
      "mi < 134\n",
      "sprawię. < 134\n",
      "każdą < 144\n",
      "do < 144\n",
      "się < 149\n",
      "Montekiego. < 149\n",
      "z < 170\n",
      "przyczyny! < 170\n",
      "sobą, < 175\n",
      "ścierpią. < 183\n",
      "GRZEGORZ < 246\n",
      "TYBALT < 288\n",
      "jak < 291\n",
      "wchodzą < 295\n",
      "MONTEKI < 334\n",
      "spokój < 354\n",
      "synowcze, < 375\n",
      "zbiegł < 389\n",
      "wschodu < 401\n",
      "sykomorowy < 403\n",
      "Tam, < 405\n",
      "na < 422\n",
      "zajdzie, < 429\n",
      "z < 440\n",
      "/ < 472\n",
      "tam, < 523\n",
      "Taką < 546\n",
      "moja < 546\n",
      "                         < 562\n",
      "sprawił, < 585\n",
      "                         < 602\n",
      "jęczyć < 603\n",
      "Nie < 608\n",
      "do < 609\n",
      "ROMEO < 626\n",
      "Grotów < 640\n",
      "- < 662\n",
      "przestać < 673\n",
      "myśleć. < 673\n",
      "rodu, > 11\n",
      "nieprzyjaznych > 12\n",
      "* > 14\n",
      "małżonka > 28\n",
      "Jan > 43\n",
      "nieszczęśliwych > 52\n",
      "jak > 56\n",
      "Wchodzą > 71\n",
      "i > 71\n",
      "Ma > 81\n",
      "rozumieć, > 81\n",
      "tego > 114\n",
      "trzymają. > 118\n",
      "Pobiwszy > 132\n",
      "GRZEGORZ > 165\n",
      "nas, > 186\n",
      "skrzywiłem > 213\n",
      "Jeżeli > 229\n",
      "GRZEGORZ > 244\n",
      "pchnięciu. > 262\n",
      "do > 266\n",
      "robicie. > 266\n",
      "długi > 304\n",
      "hej! > 305\n",
      "Miecz, > 314\n",
      "mi > 315\n",
      "/ > 324\n",
      "/ > 332\n",
      "własnych > 341\n",
      "zrodzone > 346\n",
      "oraz > 347\n",
      "dłonie > 352\n",
      "nie > 388\n",
      "się > 396\n",
      "już > 398\n",
      "— > 414\n",
      "kotarę, > 417\n",
      "Szanowny > 427\n",
      "powód > 427\n",
      "nie > 432\n",
      "tajone. > 458\n",
      "Moi–ż > 486\n",
      "Ach! > 528\n",
      "wielka, > 530\n",
      "dziwa! > 531\n",
      "przez > 560\n",
      "jest > 569\n",
      "Bądź > 571\n",
      "tego > 601\n",
      "wezwanie > 608\n",
      "tak > 609\n",
      "cel > 627\n",
      "zaklęć > 635\n",
      "chce > 645\n",
      "ROMEO > 648\n",
      "to > 650\n",
      "potomność > 652\n",
      "                         > 672\n"
     ]
    }
   ],
   "source": [
    "tokens = tokenize(\"romeo-i-julia-700.txt\")\n",
    "\n",
    "LCS_from_tokens_and_diffs(tokens)\n"
   ],
   "metadata": {
    "collapsed": false,
    "pycharm": {
     "name": "#%%\n"
    }
   }
  }
 ],
 "metadata": {
  "kernelspec": {
   "display_name": "Python 3",
   "language": "python",
   "name": "python3"
  },
  "language_info": {
   "codemirror_mode": {
    "name": "ipython",
    "version": 3
   },
   "file_extension": ".py",
   "mimetype": "text/x-python",
   "name": "python",
   "nbconvert_exporter": "python",
   "pygments_lexer": "ipython3",
   "version": "3.8.5"
  }
 },
 "nbformat": 4,
 "nbformat_minor": 4
}