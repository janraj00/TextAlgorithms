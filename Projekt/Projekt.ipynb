{
 "cells": [
  {
   "cell_type": "code",
   "execution_count": 9,
   "metadata": {},
   "outputs": [],
   "source": [
    "from typing import Callable"
   ]
  },
  {
   "cell_type": "code",
   "execution_count": 10,
   "metadata": {},
   "outputs": [],
   "source": [
    "n: int = 10"
   ]
  },
  {
   "cell_type": "markdown",
   "metadata": {},
   "source": [
    "# Metoda łańcuchowa"
   ]
  },
  {
   "cell_type": "code",
   "execution_count": 11,
   "metadata": {},
   "outputs": [],
   "source": [
    "class Node:\n",
    "    def __init__(self, word: str):\n",
    "        self.word = word\n",
    "        self.next = None"
   ]
  },
  {
   "cell_type": "code",
   "execution_count": 12,
   "metadata": {},
   "outputs": [],
   "source": [
    "def hash_function(word):\n",
    "    res = 0\n",
    "    for letter in word:\n",
    "        res += ord(letter)\n",
    "    return res % n"
   ]
  },
  {
   "cell_type": "code",
   "execution_count": 13,
   "metadata": {},
   "outputs": [],
   "source": [
    "def insert(word):\n",
    "    ind = hash_function(word)\n",
    "    node = HashTable[ind]\n",
    "    if node is None:\n",
    "        HashTable[ind] = Node(word)\n",
    "        return\n",
    "    prev = node\n",
    "    while node is not None:\n",
    "        prev = node\n",
    "        node = node.next\n",
    "    prev.next = Node(word)"
   ]
  },
  {
   "cell_type": "code",
   "execution_count": 14,
   "metadata": {},
   "outputs": [],
   "source": [
    "def find(word):\n",
    "    ind = hash_function(word)\n",
    "    node = HashTable[ind]\n",
    "    i = 0\n",
    "    while node is not None:\n",
    "        if node.word == word:\n",
    "            print(\"Indeks: \", ind,\"pozycja:\", i,\"słowo:\", word)\n",
    "            return\n",
    "        i += 1\n",
    "        node = node.next\n",
    "    print(\"Nie znaleziono\")"
   ]
  },
  {
   "cell_type": "code",
   "execution_count": 15,
   "metadata": {},
   "outputs": [],
   "source": [
    "def remove(word):\n",
    "    ind = hash_function(word)\n",
    "    node = HashTable[ind]\n",
    "    prev = node\n",
    "    while node is not None and node.word != word:\n",
    "        prev = node\n",
    "        node = node.next\n",
    "    if node is None:\n",
    "        print(\"Nie znaleziono\")\n",
    "        return\n",
    "    else:\n",
    "        prev.next = prev.next.next\n",
    "        print(\"Usunięto:\", word)\n",
    "        return"
   ]
  },
  {
   "cell_type": "code",
   "execution_count": 16,
   "metadata": {},
   "outputs": [
    {
     "name": "stdout",
     "output_type": "stream",
     "text": [
      "0 : []\n",
      "1 : []\n",
      "2 : ['MA', 'DJ', 'LB', 'JAS']\n",
      "3 : ['KOTA', 'BAR']\n",
      "4 : []\n",
      "5 : []\n",
      "6 : ['ALA']\n",
      "7 : []\n",
      "8 : []\n",
      "9 : []\n",
      "Usunięto: DJ\n",
      "0 : []\n",
      "1 : []\n",
      "2 : ['MA', 'LB', 'JAS']\n",
      "3 : ['KOTA', 'BAR']\n",
      "4 : []\n",
      "5 : []\n",
      "6 : ['ALA']\n",
      "7 : []\n",
      "8 : []\n",
      "9 : []\n"
     ]
    }
   ],
   "source": [
    "HashTable = [None] * n\n",
    "elems_to_insert = ['ALA', 'MA', 'KOTA', 'DJ', 'LB', 'BAR', 'JAS']\n",
    "for elem in elems_to_insert:\n",
    "    insert(elem)\n",
    "for i in range(len(HashTable)):\n",
    "    node = HashTable[i]\n",
    "    to_print = []\n",
    "    while node is not None:\n",
    "        to_print.append(node.word)\n",
    "        node = node.next\n",
    "    print(i, \":\", to_print)\n",
    "remove('DJ')\n",
    "for i in range(len(HashTable)):\n",
    "    node = HashTable[i]\n",
    "    to_print = []\n",
    "    while node is not None:\n",
    "        to_print.append(node.word)\n",
    "        node = node.next\n",
    "    print(i, \":\", to_print)"
   ]
  },
  {
   "cell_type": "markdown",
   "metadata": {},
   "source": [
    "# Adresowanie otwarte"
   ]
  },
  {
   "cell_type": "code",
   "execution_count": 17,
   "metadata": {},
   "outputs": [],
   "source": [
    "def linear_probing(word):\n",
    "    ind = hash_function(word)\n",
    "    steps = 0\n",
    "    while HashTable[ind] is not None:\n",
    "        ind = (ind + 1) % len(HashTable)\n",
    "        steps += 1\n",
    "        if steps == len(HashTable):\n",
    "            print(\"Brak miejsca\")\n",
    "            return\n",
    "    HashTable[ind] = word"
   ]
  },
  {
   "cell_type": "code",
   "execution_count": 18,
   "metadata": {},
   "outputs": [],
   "source": [
    "def linear_probing_deletion(word):\n",
    "    H = hash_function(word)\n",
    "    ind = H\n",
    "    if HashTable[ind] is None:\n",
    "        print(\"Zły klucz\")\n",
    "        return\n",
    "    else:\n",
    "        while HashTable[ind] != word:\n",
    "            ind = (ind + 1) % n\n",
    "        free_place = ind\n",
    "        HashTable[free_place] = None\n",
    "        for i in range(1, n):\n",
    "            to_move = HashTable[(ind + i) % n]\n",
    "            if hash_function(to_move) == H:\n",
    "                HashTable[free_place] = to_move\n",
    "                HashTable[(ind + i) % n] = None\n",
    "                return"
   ]
  },
  {
   "cell_type": "code",
   "execution_count": 19,
   "metadata": {},
   "outputs": [],
   "source": [
    "def quadratic_probing(word):\n",
    "    ind = hash_function(word)\n",
    "    steps = 0\n",
    "    while HashTable[(ind + steps * steps) % n] is not None:\n",
    "        steps += 1\n",
    "    HashTable[(ind + steps * steps) % n] = word"
   ]
  },
  {
   "cell_type": "code",
   "execution_count": 20,
   "metadata": {},
   "outputs": [],
   "source": [
    "def quadratic_probing_deletion(word):\n",
    "    H = hash_function(word)\n",
    "    steps = 0\n",
    "    ind = H\n",
    "    while HashTable[(ind + steps * steps) % n] != word:\n",
    "        steps += 1\n",
    "    if HashTable[(ind + steps * steps) % n] != word:\n",
    "        print(\"Zły klucz\")\n",
    "    else:\n",
    "        HashTable[(ind + steps * steps) % n] = None\n",
    "        free_place = (ind + steps * steps) % n\n",
    "        steps += 1\n",
    "        while HashTable[(ind + steps * steps) % n] is not None:\n",
    "            to_move = HashTable[(ind + steps * steps) % n]\n",
    "            if hash_function(to_move) == H:\n",
    "                HashTable[free_place] = to_move\n",
    "                HashTable[(ind + steps * steps) % n] = None\n",
    "                return\n",
    "            steps += 1"
   ]
  },
  {
   "cell_type": "code",
   "execution_count": 21,
   "metadata": {},
   "outputs": [],
   "source": [
    "def second_hashing_function(word):\n",
    "    H = hash_function(word)\n",
    "    return ((H+23642)*17) % n\n",
    "\n",
    "\n",
    "def double_hashing(word):\n",
    "    H = second_hashing_function(word)\n",
    "    i = 0\n",
    "    while HashTable[(i*H) % n] is not None:\n",
    "        i += 1\n",
    "        if i==len(HashTable):\n",
    "            return\n",
    "    HashTable[(i*H) % n] = word"
   ]
  },
  {
   "cell_type": "code",
   "execution_count": 22,
   "metadata": {},
   "outputs": [],
   "source": [
    "def insert(word, f: Callable):\n",
    "    f(word)"
   ]
  },
  {
   "cell_type": "code",
   "execution_count": 24,
   "metadata": {},
   "outputs": [
    {
     "name": "stdout",
     "output_type": "stream",
     "text": [
      "MA\n",
      "None\n",
      "BL\n",
      "None\n",
      "JAS\n",
      "None\n",
      "JD\n",
      "None\n",
      "DJ\n",
      "None\n",
      "----\n"
     ]
    }
   ],
   "source": [
    "HashTable = [None] * n\n",
    "elems_to_insert = ['MA', 'DJ', 'JD', 'JAS', 'BL']\n",
    "for elem in elems_to_insert:\n",
    "    insert(elem, double_hashing)\n",
    "\n",
    "for elem in HashTable:\n",
    "    print(elem)\n",
    "print(\"----\")"
   ]
  },
  {
   "cell_type": "code",
   "execution_count": 21,
   "metadata": {},
   "outputs": [
    {
     "name": "stdout",
     "output_type": "stream",
     "text": [
      "None\n",
      "None\n",
      "MA\n",
      "DJ\n",
      "JD\n",
      "JAS\n",
      "BL\n",
      "None\n",
      "None\n",
      "None\n",
      "----\n",
      "None\n",
      "None\n",
      "MA\n",
      "DJ\n",
      "JAS\n",
      "None\n",
      "BL\n",
      "None\n",
      "None\n",
      "None\n"
     ]
    }
   ],
   "source": [
    "HashTable = [None] * n\n",
    "elems_to_insert = ['MA', 'DJ', 'JD', 'JAS', 'BL']\n",
    "for elem in elems_to_insert:\n",
    "    insert(elem, linear_probing)\n",
    "\n",
    "for elem in HashTable:\n",
    "    print(elem)\n",
    "print(\"----\")\n",
    "linear_probing_deletion('JD')\n",
    "for elem in HashTable:\n",
    "    print(elem)"
   ]
  },
  {
   "cell_type": "code",
   "execution_count": 25,
   "metadata": {},
   "outputs": [
    {
     "name": "stdout",
     "output_type": "stream",
     "text": [
      "None\n",
      "JAS\n",
      "MA\n",
      "DJ\n",
      "None\n",
      "None\n",
      "JD\n",
      "None\n",
      "BL\n",
      "None\n",
      "----\n",
      "None\n",
      "None\n",
      "MA\n",
      "DJ\n",
      "None\n",
      "None\n",
      "JAS\n",
      "None\n",
      "BL\n",
      "None\n"
     ]
    }
   ],
   "source": [
    "HashTable = [None] * n\n",
    "elems_to_insert = ['MA', 'DJ', 'JD', 'JAS', 'BL']\n",
    "for elem in elems_to_insert:\n",
    "    insert(elem, quadratic_probing)\n",
    "\n",
    "for elem in HashTable:\n",
    "    print(elem)\n",
    "print(\"----\")\n",
    "quadratic_probing_deletion('JD')\n",
    "for elem in HashTable:\n",
    "    print(elem)"
   ]
  },
  {
   "cell_type": "code",
   "execution_count": null,
   "metadata": {},
   "outputs": [],
   "source": []
  }
 ],
 "metadata": {
  "kernelspec": {
   "display_name": "Python 3",
   "language": "python",
   "name": "python3"
  },
  "language_info": {
   "codemirror_mode": {
    "name": "ipython",
    "version": 3
   },
   "file_extension": ".py",
   "mimetype": "text/x-python",
   "name": "python",
   "nbconvert_exporter": "python",
   "pygments_lexer": "ipython3",
   "version": "3.8.5"
  }
 },
 "nbformat": 4,
 "nbformat_minor": 4
}
